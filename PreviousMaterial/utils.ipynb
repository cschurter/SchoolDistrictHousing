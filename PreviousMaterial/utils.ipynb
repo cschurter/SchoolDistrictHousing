{
 "cells": [
  {
   "cell_type": "code",
   "execution_count": null,
   "metadata": {},
   "outputs": [],
   "source": [
    "# code from https://github.com/mswerli/zillow_data\n",
    "import requests\n",
    "import pandas as pd\n",
    "from xml.etree import ElementTree\n",
    "import xmltodict\n",
    "from bs4 import BeautifulSoup\n",
    "import numpy as np\n",
    "import urllib\n"
   ]
  },
  {
   "cell_type": "code",
   "execution_count": null,
   "metadata": {},
   "outputs": [],
   "source": [
    "def get_attribute(api,data,tag):\n",
    "\n",
    "    print(tag)\n",
    "\n",
    "    if api == 'comp':\n",
    "\n",
    "        if type(tag) == str:\n",
    "            value = pd.DataFrame([dict(data[b][tag]) for b in range(len(data))])\n",
    "            return value\n",
    "\n",
    "        if len(tag) == 2:\n",
    "            value = pd.DataFrame([dict(data[b][tag[0]][tag[1]]) for b in range(len(data))])\n",
    "            return value\n",
    "\n",
    "        if len(tag) == 3:\n",
    "            value = pd.DataFrame([dict(data[b][tag[0]][tag[1]][tag[2]]) for b in range(len(data))])\n",
    "            return value\n",
    "\n",
    "    if api == 'search':\n",
    "\n",
    "        if type(tag) == str:\n",
    "            value = data[tag]\n",
    "            return pd.DataFrame(value, index = [0])\n",
    "\n",
    "        if len(tag) == 2:\n",
    "            value =  pd.DataFrame(data[tag[0]][tag[1]], index = [0])\n",
    "            return value\n",
    "\n",
    "        if len(tag) == 3:\n",
    "            value = pd.DataFrame(data[tag[0]][tag[1]][tag[2]], index = [0])\n",
    "            return value"
   ]
  },
  {
   "cell_type": "code",
   "execution_count": null,
   "metadata": {},
   "outputs": [],
   "source": [
    "def get_response(api, params):\n",
    "\n",
    "    print('Starting....')\n",
    "\n",
    "    if api == 'search':\n",
    "        print('Search API')\n",
    "\n",
    "        base_url = 'http://www.zillow.com/webservice/GetDeepSearchResults.htm?'\n",
    "        url = base_url + 'zws-id='+params['zws_id']+'&address='+params['address']+'&citystatezip='+params['citystatezip']\n",
    "\n",
    "    if api == 'comp':\n",
    "        base_url = 'http://www.zillow.com/webservice/GetComps.htm?'\n",
    "        url = base_url  +'zws-id='+params['zws_id']+'&zpid='+params['zpid']+'&count='+params['count']\n",
    "\n",
    "\n",
    "    print(url)\n",
    "    r = requests.get(url)\n",
    "\n",
    "    return r\n"
   ]
  },
  {
   "cell_type": "code",
   "execution_count": null,
   "metadata": {},
   "outputs": [],
   "source": [
    "def parse_response(response, tags, cols, api):\n",
    "\n",
    "    print('Parsing desired data from response.....')\n",
    "\n",
    "    if api == 'search':\n",
    "\n",
    "        cont = xmltodict.parse(response.content.decode('utf-8'))\n",
    "        cont =  dict(cont.get('SearchResults:searchresults', None)['response']['results']['result'])\n",
    "        search_dfs = [get_attribute(api = 'search', data = cont, tag = vals) for vals in tags]\n",
    "\n",
    "        zpid = cont['zpid']\n",
    "\n",
    "    if api == 'comp':\n",
    "\n",
    "        cont = xmltodict.parse(response.content.decode('utf-8'))\n",
    "        keys = cont.get('Comps:comps', None)['response']['properties']['comparables']['comp']\n",
    "        search_dfs = [get_attribute(api = 'comp', data = keys, tag = vals) for vals in tags]\n",
    "\n",
    "        ##THIS IS BROKEN--FIX\n",
    "        zpid = [keys[b]['zpid'] for b in range(len(keys))]\n",
    "\n",
    "\n",
    "    print('Combining data frames')\n",
    "\n",
    "    home_data =  pd.concat(search_dfs, axis = 1)\n",
    "\n",
    "    print('Setting column names')\n",
    "\n",
    "    home_data['zpid'] = zpid\n",
    "\n",
    "    home_data.columns = cols\n",
    "\n",
    "\n",
    "    return home_data"
   ]
  }
 ],
 "metadata": {
  "kernelspec": {
   "display_name": "Python 3",
   "language": "python",
   "name": "python3"
  },
  "language_info": {
   "codemirror_mode": {
    "name": "ipython",
    "version": 3
   },
   "file_extension": ".py",
   "mimetype": "text/x-python",
   "name": "python",
   "nbconvert_exporter": "python",
   "pygments_lexer": "ipython3",
   "version": "3.7.0"
  }
 },
 "nbformat": 4,
 "nbformat_minor": 2
}
