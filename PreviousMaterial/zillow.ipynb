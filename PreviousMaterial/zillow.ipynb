{
 "cells": [
  {
   "cell_type": "code",
   "execution_count": 1,
   "metadata": {},
   "outputs": [],
   "source": [
    "import requests\n",
    "import pandas as pd\n",
    "from xml.etree import ElementTree\n",
    "import xmltodict\n",
    "from bs4 import BeautifulSoup\n",
    "import numpy as np\n",
    "import urllib\n",
    "import utils\n",
    "import datetime\n",
    "import csv\n",
    "import os.path"
   ]
  },
  {
   "cell_type": "code",
   "execution_count": 2,
   "metadata": {},
   "outputs": [],
   "source": [
    "##User specific ID used for IDing requests\n",
    "zws_id = 'X1-ZWz183nrq3tjwr_a9fju'\n",
    "##Address of property##\n",
    "address = '870 avenida abeja'\n",
    "##This one is intuitive\n",
    "citystatezip = 'San Marcos,CA,92078'\n",
    "##Zillow ID for property. Get from URL in browswer\n",
    "zpid = '63141450'\n",
    "##How any results\n",
    "count = '25'"
   ]
  },
  {
   "cell_type": "code",
   "execution_count": 3,
   "metadata": {},
   "outputs": [],
   "source": [
    "##Identifying info to base search on##\n",
    "search_params = {'zws_id': zws_id, 'address': address,\n",
    "                'citystatezip': citystatezip,\n",
    "                'zpid': zpid, 'count': count}"
   ]
  },
  {
   "cell_type": "code",
   "execution_count": 4,
   "metadata": {},
   "outputs": [],
   "source": [
    "##Tags to extract from respons##\n",
    "search_tags = (('address'),\n",
    "                ('zestimate','valuationRange','high'),\n",
    "                ('zestimate','valuationRange','low'),\n",
    "                ('zestimate', 'amount'))\n",
    "\n",
    "comp_tags =  (('address'),\n",
    "              ('zestimate','valuationRange','high'),\n",
    "              ('zestimate','valuationRange','low'),\n",
    "              ('zestimate', 'amount'))"
   ]
  },
  {
   "cell_type": "code",
   "execution_count": 5,
   "metadata": {},
   "outputs": [],
   "source": [
    "##Colums for data##\n",
    "home_cols = ['street', 'zipcode', 'city', 'state',\n",
    "             'latitude', 'longitude', 'currency1',\n",
    "             'valuation_high',  'currency2', 'valuation_low',\n",
    "             'currency3' ,'zestimate', 'zpid']"
   ]
  },
  {
   "cell_type": "code",
   "execution_count": 6,
   "metadata": {},
   "outputs": [],
   "source": [
    "comp_cols = ['city', 'latitude', 'longitude', 'state',\n",
    "             'street', 'zipcode',  'valuation_high',\n",
    "             'currency1', 'valuation_low', 'currency2',\n",
    "             'zestimate', 'currency3', 'zpid']"
   ]
  },
  {
   "cell_type": "code",
   "execution_count": 7,
   "metadata": {},
   "outputs": [
    {
     "name": "stdout",
     "output_type": "stream",
     "text": [
      "Starting....\n",
      "Search API\n",
      "http://www.zillow.com/webservice/GetDeepSearchResults.htm?zws-id=X1-ZWz183nrq3tjwr_a9fju&address=870 avenida abeja&citystatezip=San Marcos,CA,92078\n",
      "Parsing desired data from response.....\n",
      "address\n",
      "('zestimate', 'valuationRange', 'high')\n",
      "('zestimate', 'valuationRange', 'low')\n",
      "('zestimate', 'amount')\n",
      "Combining data frames\n",
      "Setting column names\n"
     ]
    }
   ],
   "source": [
    "##Get starting home data##\n",
    "r = utils.get_response(api = 'search', params = search_params)\n",
    "\n",
    "home = utils.parse_response(response = r,\n",
    "                            api = 'search',\n",
    "                            tags = search_tags,\n",
    "                            cols = home_cols)"
   ]
  },
  {
   "cell_type": "code",
   "execution_count": 8,
   "metadata": {},
   "outputs": [
    {
     "name": "stdout",
     "output_type": "stream",
     "text": [
      "Starting....\n",
      "http://www.zillow.com/webservice/GetComps.htm?zws-id=X1-ZWz183nrq3tjwr_a9fju&zpid=63141450&count=25\n",
      "Parsing desired data from response.....\n",
      "address\n",
      "('zestimate', 'valuationRange', 'high')\n",
      "('zestimate', 'valuationRange', 'low')\n",
      "('zestimate', 'amount')\n",
      "Combining data frames\n",
      "Setting column names\n"
     ]
    }
   ],
   "source": [
    "##Get Comps for original property\n",
    "comp_response = utils.get_response(api = 'comp', params = search_params)\n",
    "\n",
    "comps = utils.parse_response(response = comp_response,\n",
    "                             api = 'comp',\n",
    "                             tags = comp_tags,\n",
    "                             cols = comp_cols)"
   ]
  },
  {
   "cell_type": "code",
   "execution_count": 9,
   "metadata": {},
   "outputs": [],
   "source": [
    "##Cmobine data and write to csv\n",
    "home = home[comp_cols]\n",
    "\n",
    "data_list = [home,comps]\n",
    "all_data = pd.concat(data_list)\n",
    "all_data['record_date'] = datetime.datetime.now()\n",
    "path = 'comps.csv'\n",
    "all_data.to_csv(path)\n",
    "\n",
    "all_data.keys()\n",
    "\n",
    "if os.path.isfile(path):\n",
    "    ##check for exising file\n",
    "    existing_data = pd.read_csv(path)\n",
    "    existing_data = existing_data.drop('Unnamed: 0', axis = 1)\n",
    "    data_list = [all_data, existing_data]\n",
    "\n",
    "    all_data = pd.concat(data_list, sort = 'FALSE')\n",
    "\n",
    "all_data.to_csv(path)"
   ]
  },
  {
   "cell_type": "code",
   "execution_count": null,
   "metadata": {},
   "outputs": [],
   "source": []
  }
 ],
 "metadata": {
  "kernelspec": {
   "display_name": "Python 3",
   "language": "python",
   "name": "python3"
  },
  "language_info": {
   "codemirror_mode": {
    "name": "ipython",
    "version": 3
   },
   "file_extension": ".py",
   "mimetype": "text/x-python",
   "name": "python",
   "nbconvert_exporter": "python",
   "pygments_lexer": "ipython3",
   "version": "3.7.0"
  }
 },
 "nbformat": 4,
 "nbformat_minor": 2
}
